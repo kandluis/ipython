{
 "cells": [
  {
   "cell_type": "code",
   "execution_count": 1,
   "metadata": {
    "collapsed": true,
    "deletable": true,
    "editable": true
   },
   "outputs": [],
   "source": [
    "def memoize(f):\n",
    "    \"\"\" Memoization decorator for functions taking one or more arguments. \"\"\"\n",
    "    class memodict(dict):\n",
    "        def __init__(self, f):\n",
    "            self.f = f\n",
    "        def __call__(self, *args):\n",
    "            return self[args]\n",
    "        def __missing__(self, key):\n",
    "            ret = self[key] = self.f(*key)\n",
    "            return ret\n",
    "    return memodict(f)"
   ]
  },
  {
   "cell_type": "code",
   "execution_count": 2,
   "metadata": {
    "collapsed": true,
    "deletable": true,
    "editable": true
   },
   "outputs": [],
   "source": [
    "# Solve Settlers of Catan\n",
    "class Board(object):\n",
    "    \"\"\"\n",
    "    The.\n",
    "    \"\"\""
   ]
  },
  {
   "cell_type": "code",
   "execution_count": 6,
   "metadata": {
    "collapsed": false,
    "deletable": true,
    "editable": true
   },
   "outputs": [],
   "source": [
    "# TODO:\n",
    "#   Handle DevCard\n",
    "WOOD, CLAY, ORE, GRAIN, SHEEP = 'WOOD', 'CLAY', 'ORE', 'GRAIN', 'SHEEP'\n",
    "ROAD, SETTLEMENT, CITY, DEVCARD = 'ROAD', 'SETTLEMENT', 'CITY', 'DEVCARD' \n",
    "possible_cards = [WOOD, CLAY, ORE, GRAIN, SHEEP]\n",
    "buildable_units = [ROAD, SETTLEMENT, CITY]\n",
    "buildable_unit_cost = {ROAD: {WOOD: 1, CLAY:1},\n",
    "                       SETTLEMENT: {WOOD: 1, CLAY: 1, GRAIN: 1, SHEEP: 1},\n",
    "                       CITY: {GRAIN: 2, ORE: 3}}\n",
    "PASS = 'PASS'\n",
    "\n",
    "def possible_build_actions(hand):\n",
    "    \"\"\"\n",
    "    Returns the possible actions for a hand. \n",
    "    \n",
    "    Args:\n",
    "        hand: dict, maps from CARD -> Count.\n",
    "    \"\"\"\n",
    "    return [unit for unit in buildable_units \n",
    "            if all(card in hand and hand[card] >= cost \n",
    "                   for card, cost in buildable_unit_cost[unit].iteritems())]\n",
    "\n",
    "# Simple tests.\n",
    "assert possible_build_actions({WOOD: 1, CLAY:1}) == [ROAD]\n",
    "assert possible_build_actions({ORE: 3, GRAIN: 2}) == [CITY]\n",
    "assert possible_build_actions({WOOD: 1, CLAY: 1, SHEEP: 1, GRAIN: 1}) == [ROAD, SETTLEMENT]    "
   ]
  },
  {
   "cell_type": "code",
   "execution_count": 7,
   "metadata": {
    "collapsed": false,
    "deletable": true,
    "editable": true
   },
   "outputs": [
    {
     "ename": "SyntaxError",
     "evalue": "invalid syntax (<ipython-input-7-533b9cfe69b1>, line 5)",
     "output_type": "error",
     "traceback": [
      "\u001b[0;36m  File \u001b[0;32m\"<ipython-input-7-533b9cfe69b1>\"\u001b[0;36m, line \u001b[0;32m5\u001b[0m\n\u001b[0;31m    for action in\u001b[0m\n\u001b[0m                  ^\u001b[0m\n\u001b[0;31mSyntaxError\u001b[0m\u001b[0;31m:\u001b[0m invalid syntax\n"
     ]
    }
   ],
   "source": [
    "def solve(current_hand):\n",
    "    \"\"\"Find the minumum number of moves required to win the input game.\"\"\"\n",
    "    # Add expected value to hand.\n",
    "    possible_actions = possible_build_actions(current_had) + [PASS]\n",
    "    for action in \n",
    "    "
   ]
  },
  {
   "cell_type": "code",
   "execution_count": 31,
   "metadata": {
    "collapsed": false,
    "deletable": true,
    "editable": true
   },
   "outputs": [
    {
     "data": {
      "text/plain": [
       "array(['b'], \n",
       "      dtype='|S1')"
      ]
     },
     "execution_count": 31,
     "metadata": {},
     "output_type": "execute_result"
    }
   ],
   "source": [
    "import numpy as np\n",
    "np.array([v for v in val.values() for val in {'k': 'b'}.values()])"
   ]
  },
  {
   "cell_type": "code",
   "execution_count": null,
   "metadata": {
    "collapsed": true,
    "deletable": true,
    "editable": true
   },
   "outputs": [],
   "source": []
  }
 ],
 "metadata": {
  "kernelspec": {
   "display_name": "test",
   "language": "python",
   "name": "test"
  },
  "language_info": {
   "codemirror_mode": {
    "name": "ipython",
    "version": 2
   },
   "file_extension": ".py",
   "mimetype": "text/x-python",
   "name": "python",
   "nbconvert_exporter": "python",
   "pygments_lexer": "ipython2",
   "version": "2.7.10"
  }
 },
 "nbformat": 4,
 "nbformat_minor": 2
}
