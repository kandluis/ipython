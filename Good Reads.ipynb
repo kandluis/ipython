{
 "cells": [
  {
   "cell_type": "code",
   "execution_count": 1,
   "metadata": {
    "collapsed": true,
    "deletable": true,
    "editable": true
   },
   "outputs": [],
   "source": [
    "\"\"\"Required imports\"\"\"\n",
    "import json\n",
    "import urllib\n",
    "\n",
    "from bs4 import BeautifulSoup"
   ]
  },
  {
   "cell_type": "code",
   "execution_count": 2,
   "metadata": {
    "collapsed": true
   },
   "outputs": [],
   "source": [
    "# We have to generate the webpage dynamically since it's mostly JS.\n",
    "from contextlib import closing\n",
    "from selenium.webdriver import Chrome # pip install selenium\n",
    "from selenium.webdriver.support.ui import WebDriverWait"
   ]
  },
  {
   "cell_type": "code",
   "execution_count": 122,
   "metadata": {
    "collapsed": true
   },
   "outputs": [],
   "source": [
    "class Book(object):\n",
    "    def __init__(self, title, author, gr_id):\n",
    "        self.title = title.encode('ascii', 'ignore')\n",
    "        self.author = author\n",
    "        self.id = gr_id\n",
    "        self.href = 'https://www.goodreads.com/book/show/%s' % self.id\n",
    "        \n",
    "    def __eq__(self, other):\n",
    "        return self.id == other.id\n",
    "    \n",
    "    def __str__(self):\n",
    "        return \"%s by %s\" % (self.title, self.author.name)\n",
    "\n",
    "    def __hash__(self):\n",
    "        return hash(str(self.id))\n",
    "    \n",
    "    def __repr__(self):\n",
    "        return \"%s: %s\" % (str(self), self.href)\n",
    "        \n",
    "class Author(object):\n",
    "    def __init__(self, name, gr_id):\n",
    "        self.name = name.encode('ascii', 'ignore')\n",
    "        self.id = gr_id\n",
    "        self.href = 'https://www.goodreads.com/author/show/%s' % self.id\n",
    "        \n",
    "    def __eq__(self, other):\n",
    "        return self.id == other.id\n",
    "    \n",
    "    def __str__(self):\n",
    "        return self.name\n",
    "\n",
    "    def __hash__(self):\n",
    "        return hash(str(self.id))\n",
    "    \n",
    "    def __repr__(self):\n",
    "        return \"%s: %s\" % (str(self), self.href)"
   ]
  },
  {
   "cell_type": "code",
   "execution_count": 123,
   "metadata": {
    "collapsed": true
   },
   "outputs": [],
   "source": [
    "def get_raw_html(browser, shelf, page=1):\n",
    "    '''\n",
    "    Fetches the raw html for the page corresponding to `shelf`\n",
    "    and `page` number.\n",
    "    '''\n",
    "    service_url = 'https://www.goodreads.com/shelf/show/' \n",
    "    params = {\n",
    "        'page': page\n",
    "    }\n",
    "    url = service_url + shelf + '?' + urllib.urlencode(params)\n",
    "    browser.get(url)\n",
    "    return browser.page_source"
   ]
  },
  {
   "cell_type": "code",
   "execution_count": 124,
   "metadata": {
    "collapsed": false
   },
   "outputs": [],
   "source": [
    "def get_shelf(browser, term, n = 100):\n",
    "    '''\n",
    "    Given a browser and a shelf name, returns a list \n",
    "    of n `Book`s as determined by Good Reads. \n",
    "    '''\n",
    "    page = 1\n",
    "    books = set()\n",
    "    while len(books) < n:\n",
    "        html = get_raw_html(browser, term, page)\n",
    "        books_in_page = get_books(html)\n",
    "        books = books.union(books_in_page)\n",
    "        page += 1\n",
    "    return books"
   ]
  },
  {
   "cell_type": "code",
   "execution_count": 125,
   "metadata": {
    "collapsed": true
   },
   "outputs": [],
   "source": [
    "def extract_author(anchor):\n",
    "    '''\n",
    "    Given an anchor .authorName extracts an Author object.\n",
    "    '''\n",
    "    gr_id = anchor['href'].split('/')[-1]\n",
    "    name = anchor.find('span').contents[0]\n",
    "    return Author(name=name, gr_id=gr_id)\n",
    "\n",
    "def extract_book(div):\n",
    "    '''\n",
    "    Given an .elementList div for a book, returns a Book object.\n",
    "    '''\n",
    "    anchor_tag = div.find('a', {'class': 'bookTitle'})\n",
    "    title = anchor_tag.contents[0]\n",
    "    gr_id = anchor_tag['href'].split('/')[-1]\n",
    "    author_tag = div.find('a', {'class': 'authorName'})\n",
    "    author = extract_author(author_tag)\n",
    "    return Book(title=title, author=author, gr_id=gr_id)"
   ]
  },
  {
   "cell_type": "code",
   "execution_count": 126,
   "metadata": {
    "collapsed": true
   },
   "outputs": [],
   "source": [
    "def get_books(html):\n",
    "    '''\n",
    "    Extracts a set of Books from the html raw source if possible.\n",
    "    '''\n",
    "    soup = BeautifulSoup(html, 'html.parser')\n",
    "    result_list = soup.find('div', { 'class': 'leftContainer'})\n",
    "    results = result_list.find_all('div', {'class': 'elementList'})\n",
    "    return set([extract_book(res) for res in results])"
   ]
  },
  {
   "cell_type": "code",
   "execution_count": 127,
   "metadata": {
    "collapsed": true
   },
   "outputs": [],
   "source": [
    "def login(browser, email, password):\n",
    "    '''\n",
    "    Login to GoodReads so we can access more data.\n",
    "    '''\n",
    "    url = 'https://www.goodreads.com/user/sign_in'\n",
    "    browser.get(url)\n",
    "    browser.find_element_by_id('user_email').send_keys(email)\n",
    "    browser.find_element_by_id('user_password').send_keys(password)\n",
    "    browser.find_element_by_name('next').click()"
   ]
  },
  {
   "cell_type": "code",
   "execution_count": 128,
   "metadata": {
    "collapsed": true
   },
   "outputs": [],
   "source": [
    "def find_books(tags, n = 500):\n",
    "    '''\n",
    "    Given a list of tags, finds their intersection by looking\n",
    "    at the top n books in each tag and intersecting the resulting\n",
    "    sets.\n",
    "    \n",
    "    Returns:\n",
    "        A set of Book objects. It may be helpful to run something like:\n",
    "        for book in book:\n",
    "            print book\n",
    "    '''\n",
    "    books_by_tag = []\n",
    "    with closing(Chrome('./chromedriver')) as browser:\n",
    "        login(browser, 'luis.perez.live@gmail.com', 'luis3137')\n",
    "        for tag in tags:\n",
    "            books_by_tag.append(get_shelf(browser, 'fantasy'))\n",
    "    return set.intersection(*books_by_tag)"
   ]
  },
  {
   "cell_type": "code",
   "execution_count": 132,
   "metadata": {
    "collapsed": false
   },
   "outputs": [],
   "source": [
    "books = find_books(['strong-heroine', 'female-lead', 'fantasy'])"
   ]
  },
  {
   "cell_type": "code",
   "execution_count": 131,
   "metadata": {
    "collapsed": false
   },
   "outputs": [
    {
     "name": "stdout",
     "output_type": "stream",
     "text": [
      "https://www.goodreads.com/book/show/7260188-mockingjay\n",
      "https://www.goodreads.com/book/show/84119.The_Horse_and_His_Boy\n",
      "https://www.goodreads.com/book/show/28187.The_Lightning_Thief\n",
      "https://www.goodreads.com/book/show/34506.The_Light_Fantastic\n",
      "https://www.goodreads.com/book/show/12067.Good_Omens\n",
      "https://www.goodreads.com/book/show/18512.The_Return_of_the_King\n",
      "https://www.goodreads.com/book/show/34497.The_Color_of_Magic\n",
      "https://www.goodreads.com/book/show/14497.Neverwhere\n",
      "https://www.goodreads.com/book/show/140974.The_Path_of_Daggers\n",
      "https://www.goodreads.com/book/show/7664041-inheritance\n",
      "https://www.goodreads.com/book/show/17061.Coraline\n",
      "https://www.goodreads.com/book/show/428263.Eclipse\n",
      "https://www.goodreads.com/book/show/1.Harry_Potter_and_the_Half_Blood_Prince\n",
      "https://www.goodreads.com/book/show/62291.A_Storm_of_Swords\n",
      "https://www.goodreads.com/book/show/35231.Lord_of_Chaos\n",
      "https://www.goodreads.com/book/show/47212.Storm_Front\n",
      "https://www.goodreads.com/book/show/561456.The_Titan_s_Curse\n",
      "https://www.goodreads.com/book/show/140225.The_Voyage_of_the_Dawn_Treader\n",
      "https://www.goodreads.com/book/show/18122.The_Amber_Spyglass\n",
      "https://www.goodreads.com/book/show/2744.Anansi_Boys\n",
      "https://www.goodreads.com/book/show/22544764-uprooted\n",
      "https://www.goodreads.com/book/show/8667848-a-discovery-of-witches\n",
      "https://www.goodreads.com/book/show/6.Harry_Potter_and_the_Goblet_of_Fire\n",
      "https://www.goodreads.com/book/show/10664113-a-dance-with-dragons\n",
      "https://www.goodreads.com/book/show/20613470-heir-of-fire\n",
      "https://www.goodreads.com/book/show/3.Harry_Potter_and_the_Sorcerer_s_Stone\n",
      "https://www.goodreads.com/book/show/2213661.The_Graveyard_Book\n",
      "https://www.goodreads.com/book/show/44659.Pawn_of_Prophecy\n",
      "https://www.goodreads.com/book/show/2767052-the-hunger-games\n",
      "https://www.goodreads.com/book/show/2248573.Brisingr\n",
      "https://www.goodreads.com/book/show/17675462-the-raven-boys\n",
      "https://www.goodreads.com/book/show/13890.A_Crown_of_Swords\n",
      "https://www.goodreads.com/book/show/119322.The_Golden_Compass\n",
      "https://www.goodreads.com/book/show/68428.The_Final_Empire\n",
      "https://www.goodreads.com/book/show/49041.New_Moon\n",
      "https://www.goodreads.com/book/show/3227063-the-way-of-shadows\n",
      "https://www.goodreads.com/book/show/65641.The_Silver_Chair\n",
      "https://www.goodreads.com/book/show/127455.The_Lies_of_Locke_Lamora\n",
      "https://www.goodreads.com/book/show/11235712-cinder\n",
      "https://www.goodreads.com/book/show/7332.The_Silmarillion\n",
      "https://www.goodreads.com/book/show/1215032.The_Wise_Man_s_Fear\n",
      "https://www.goodreads.com/book/show/186074.The_Name_of_the_Wind\n",
      "https://www.goodreads.com/book/show/233649.The_Great_Hunt\n",
      "https://www.goodreads.com/book/show/9460487-miss-peregrine-s-home-for-peculiar-children\n",
      "https://www.goodreads.com/book/show/1582996.City_of_Ashes\n",
      "https://www.goodreads.com/book/show/3950967-the-tales-of-beedle-the-bard\n",
      "https://www.goodreads.com/book/show/43889.Wizard_s_First_Rule\n",
      "https://www.goodreads.com/book/show/13895.The_Fires_of_Heaven\n",
      "https://www.goodreads.com/book/show/13497.A_Feast_for_Crows\n",
      "https://www.goodreads.com/book/show/41865.Twilight\n",
      "https://www.goodreads.com/book/show/9520360-the-son-of-neptune\n",
      "https://www.goodreads.com/book/show/28186.The_Sea_of_Monsters\n",
      "https://www.goodreads.com/book/show/2120932.The_Battle_of_the_Labyrinth\n",
      "https://www.goodreads.com/book/show/136251.Harry_Potter_and_the_Deathly_Hallows\n",
      "https://www.goodreads.com/book/show/15575.The_Sword_of_Shannara\n",
      "https://www.goodreads.com/book/show/5.Harry_Potter_and_the_Prisoner_of_Azkaban\n",
      "https://www.goodreads.com/book/show/100915.The_Lion_the_Witch_and_the_Wardrobe\n",
      "https://www.goodreads.com/book/show/5907.The_Hobbit\n",
      "https://www.goodreads.com/book/show/10572.A_Clash_of_Kings\n",
      "https://www.goodreads.com/book/show/33.The_Lord_of_the_Rings\n",
      "https://www.goodreads.com/book/show/119324.The_Subtle_Knife\n",
      "https://www.goodreads.com/book/show/228665.The_Eye_of_the_World\n",
      "https://www.goodreads.com/book/show/121749.Prince_Caspian\n",
      "https://www.goodreads.com/book/show/9539.The_Shadow_Rising\n",
      "https://www.goodreads.com/book/show/8490112-daughter-of-smoke-bone\n",
      "https://www.goodreads.com/book/show/22055262-a-darker-shade-of-magic\n",
      "https://www.goodreads.com/book/show/29056083-harry-potter-and-the-cursed-child---parts-one-and-two\n",
      "https://www.goodreads.com/book/show/13891.Winter_s_Heart\n",
      "https://www.goodreads.com/book/show/16793.Stardust\n",
      "https://www.goodreads.com/book/show/402045.The_Mists_of_Avalon\n",
      "https://www.goodreads.com/book/show/23437156-six-of-crows\n",
      "https://www.goodreads.com/book/show/113436.Eragon\n",
      "https://www.goodreads.com/book/show/34.The_Fellowship_of_the_Ring\n",
      "https://www.goodreads.com/book/show/249747.Artemis_Fowl\n",
      "https://www.goodreads.com/book/show/43615.The_Gunslinger\n",
      "https://www.goodreads.com/book/show/7235533-the-way-of-kings\n",
      "https://www.goodreads.com/book/show/4556058-the-last-olympian\n",
      "https://www.goodreads.com/book/show/8755776-city-of-lost-souls\n",
      "https://www.goodreads.com/book/show/19549841-seraphina\n",
      "https://www.goodreads.com/book/show/27774758-an-ember-in-the-ashes\n",
      "https://www.goodreads.com/book/show/6752378-city-of-fallen-angels\n",
      "https://www.goodreads.com/book/show/28876.His_Majesty_s_Dragon\n",
      "https://www.goodreads.com/book/show/6137154-fire\n",
      "https://www.goodreads.com/book/show/24337.Ella_Enchanted\n",
      "https://www.goodreads.com/book/show/3777732-city-of-glass\n",
      "https://www.goodreads.com/book/show/16096824-a-court-of-thorns-and-roses\n",
      "https://www.goodreads.com/book/show/7896527-throne-of-glass\n",
      "https://www.goodreads.com/book/show/15241.The_Two_Towers\n",
      "https://www.goodreads.com/book/show/41899.Fantastic_Beasts_and_Where_to_Find_Them\n",
      "https://www.goodreads.com/book/show/7171637-clockwork-angel\n",
      "https://www.goodreads.com/book/show/14201.Jonathan_Strange_Mr_Norrell\n",
      "https://www.goodreads.com/book/show/68429.The_Well_of_Ascension\n",
      "https://www.goodreads.com/book/show/21787.The_Princess_Bride\n",
      "https://www.goodreads.com/book/show/9361589-the-night-circus\n",
      "https://www.goodreads.com/book/show/386372.Mort\n",
      "https://www.goodreads.com/book/show/13831.Alanna\n",
      "https://www.goodreads.com/book/show/944073.The_Blade_Itself\n",
      "https://www.goodreads.com/book/show/34897.The_Dragon_Reborn\n",
      "https://www.goodreads.com/book/show/6148028-catching-fire\n",
      "https://www.goodreads.com/book/show/18131.A_Wrinkle_in_Time\n"
     ]
    }
   ],
   "source": [
    "for book in books:\n",
    "    print book.href"
   ]
  },
  {
   "cell_type": "code",
   "execution_count": null,
   "metadata": {
    "collapsed": true,
    "deletable": true,
    "editable": true
   },
   "outputs": [],
   "source": [
    "# Good reads data pulling.\n",
    "def get_shelf(shelf_name):\n",
    "    service_url = 'https://www.goodreads.com/shelf/show/'\n",
    "    url = service_url + '?' + shelf_name\n",
    "    response = urllib.urlopen(url).read()\n",
    "    \n",
    "    return response"
   ]
  },
  {
   "cell_type": "code",
   "execution_count": null,
   "metadata": {
    "collapsed": false,
    "deletable": true,
    "editable": true
   },
   "outputs": [],
   "source": [
    "get_shelf(\"fiction\")"
   ]
  },
  {
   "cell_type": "code",
   "execution_count": null,
   "metadata": {
    "collapsed": true,
    "deletable": true,
    "editable": true
   },
   "outputs": [],
   "source": []
  }
 ],
 "metadata": {
  "kernelspec": {
   "display_name": "test",
   "language": "python",
   "name": "test"
  },
  "language_info": {
   "codemirror_mode": {
    "name": "ipython",
    "version": 2
   },
   "file_extension": ".py",
   "mimetype": "text/x-python",
   "name": "python",
   "nbconvert_exporter": "python",
   "pygments_lexer": "ipython2",
   "version": "2.7.10"
  }
 },
 "nbformat": 4,
 "nbformat_minor": 2
}
