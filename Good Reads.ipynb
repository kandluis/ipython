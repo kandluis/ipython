{
 "cells": [
  {
   "cell_type": "code",
   "execution_count": 1,
   "metadata": {
    "collapsed": true,
    "deletable": true,
    "editable": true
   },
   "outputs": [],
   "source": [
    "\"\"\"Required imports\"\"\"\n",
    "import json\n",
    "import urllib\n",
    "\n",
    "from bs4 import BeautifulSoup"
   ]
  },
  {
   "cell_type": "code",
   "execution_count": 2,
   "metadata": {
    "collapsed": true
   },
   "outputs": [],
   "source": [
    "# We have to generate the webpage dynamically since it's mostly JS.\n",
    "from contextlib import closing\n",
    "from selenium.webdriver import Chrome # pip install selenium\n",
    "from selenium.webdriver.support.ui import WebDriverWait"
   ]
  },
  {
   "cell_type": "code",
   "execution_count": 122,
   "metadata": {
    "collapsed": true
   },
   "outputs": [],
   "source": [
    "class Book(object):\n",
    "    def __init__(self, title, author, gr_id):\n",
    "        self.title = title.encode('ascii', 'ignore')\n",
    "        self.author = author\n",
    "        self.id = gr_id\n",
    "        self.href = 'https://www.goodreads.com/book/show/%s' % self.id\n",
    "        \n",
    "    def __eq__(self, other):\n",
    "        return self.id == other.id\n",
    "    \n",
    "    def __str__(self):\n",
    "        return \"%s by %s\" % (self.title, self.author.name)\n",
    "\n",
    "    def __hash__(self):\n",
    "        return hash(str(self.id))\n",
    "    \n",
    "    def __repr__(self):\n",
    "        return \"%s: %s\" % (str(self), self.href)\n",
    "        \n",
    "class Author(object):\n",
    "    def __init__(self, name, gr_id):\n",
    "        self.name = name.encode('ascii', 'ignore')\n",
    "        self.id = gr_id\n",
    "        self.href = 'https://www.goodreads.com/author/show/%s' % self.id\n",
    "        \n",
    "    def __eq__(self, other):\n",
    "        return self.id == other.id\n",
    "    \n",
    "    def __str__(self):\n",
    "        return self.name\n",
    "\n",
    "    def __hash__(self):\n",
    "        return hash(str(self.id))\n",
    "    \n",
    "    def __repr__(self):\n",
    "        return \"%s: %s\" % (str(self), self.href)"
   ]
  },
  {
   "cell_type": "code",
   "execution_count": 123,
   "metadata": {
    "collapsed": true
   },
   "outputs": [],
   "source": [
    "def get_raw_html(browser, shelf, page=1):\n",
    "    '''\n",
    "    Fetches the raw html for the page corresponding to `shelf`\n",
    "    and `page` number.\n",
    "    '''\n",
    "    service_url = 'https://www.goodreads.com/shelf/show/' \n",
    "    params = {\n",
    "        'page': page\n",
    "    }\n",
    "    url = service_url + shelf + '?' + urllib.urlencode(params)\n",
    "    browser.get(url)\n",
    "    return browser.page_source"
   ]
  },
  {
   "cell_type": "code",
   "execution_count": 124,
   "metadata": {
    "collapsed": false
   },
   "outputs": [],
   "source": [
    "def get_shelf(browser, term, n = 100):\n",
    "    '''\n",
    "    Given a browser and a shelf name, returns a list \n",
    "    of n `Book`s as determined by Good Reads. \n",
    "    '''\n",
    "    page = 1\n",
    "    books = set()\n",
    "    while len(books) < n:\n",
    "        html = get_raw_html(browser, term, page)\n",
    "        books_in_page = get_books(html)\n",
    "        books = books.union(books_in_page)\n",
    "        page += 1\n",
    "    return books"
   ]
  },
  {
   "cell_type": "code",
   "execution_count": 125,
   "metadata": {
    "collapsed": true
   },
   "outputs": [],
   "source": [
    "def extract_author(anchor):\n",
    "    '''\n",
    "    Given an anchor .authorName extracts an Author object.\n",
    "    '''\n",
    "    gr_id = anchor['href'].split('/')[-1]\n",
    "    name = anchor.find('span').contents[0]\n",
    "    return Author(name=name, gr_id=gr_id)\n",
    "\n",
    "def extract_book(div):\n",
    "    '''\n",
    "    Given an .elementList div for a book, returns a Book object.\n",
    "    '''\n",
    "    anchor_tag = div.find('a', {'class': 'bookTitle'})\n",
    "    title = anchor_tag.contents[0]\n",
    "    gr_id = anchor_tag['href'].split('/')[-1]\n",
    "    author_tag = div.find('a', {'class': 'authorName'})\n",
    "    author = extract_author(author_tag)\n",
    "    return Book(title=title, author=author, gr_id=gr_id)"
   ]
  },
  {
   "cell_type": "code",
   "execution_count": 126,
   "metadata": {
    "collapsed": true
   },
   "outputs": [],
   "source": [
    "def get_books(html):\n",
    "    '''\n",
    "    Extracts a set of Books from the html raw source if possible.\n",
    "    '''\n",
    "    soup = BeautifulSoup(html, 'html.parser')\n",
    "    result_list = soup.find('div', { 'class': 'leftContainer'})\n",
    "    results = result_list.find_all('div', {'class': 'elementList'})\n",
    "    return set([extract_book(res) for res in results])"
   ]
  },
  {
   "cell_type": "code",
   "execution_count": 127,
   "metadata": {
    "collapsed": true
   },
   "outputs": [],
   "source": [
    "def login(browser, email, password):\n",
    "    '''\n",
    "    Login to GoodReads so we can access more data.\n",
    "    '''\n",
    "    url = 'https://www.goodreads.com/user/sign_in'\n",
    "    browser.get(url)\n",
    "    browser.find_element_by_id('user_email').send_keys(email)\n",
    "    browser.find_element_by_id('user_password').send_keys(password)\n",
    "    browser.find_element_by_name('next').click()"
   ]
  },
  {
   "cell_type": "code",
   "execution_count": 137,
   "metadata": {
    "collapsed": true
   },
   "outputs": [],
   "source": [
    "def find_books(tags, n = 500):\n",
    "    '''\n",
    "    Given a list of tags, finds their intersection by looking\n",
    "    at the top n books in each tag and intersecting the resulting\n",
    "    sets.\n",
    "    \n",
    "    Returns:\n",
    "        A set of Book objects. It may be helpful to run something like:\n",
    "        for book in book:\n",
    "            print book\n",
    "    '''\n",
    "    books_by_tag = []\n",
    "    with closing(Chrome('./chromedriver')) as browser:\n",
    "        login(browser, 'luis.perez.live@gmail.com', 'luis3137')\n",
    "        for tag in tags:\n",
    "            books_by_tag.append(get_shelf(browser, tag, n = n))\n",
    "            print \"Finished collecting data for tag %s.\" % tag\n",
    "    return set.intersection(*books_by_tag)"
   ]
  },
  {
   "cell_type": "code",
   "execution_count": null,
   "metadata": {
    "collapsed": false
   },
   "outputs": [],
   "source": [
    "books = find_books(['strong-heroine', 'female-lead', 'fantasy', 'kindle-unlimited'], n = 10000)"
   ]
  },
  {
   "cell_type": "code",
   "execution_count": 142,
   "metadata": {
    "collapsed": false
   },
   "outputs": [
    {
     "name": "stdout",
     "output_type": "stream",
     "text": [
      "https://www.goodreads.com/book/show/6148028-catching-fire author: Suzanne Collins\n",
      "https://www.goodreads.com/book/show/7260188-mockingjay author: Suzanne Collins\n",
      "https://www.goodreads.com/book/show/2767052-the-hunger-games author: Suzanne Collins\n",
      "https://www.goodreads.com/book/show/15863832-angelfall author: Susan Ee\n"
     ]
    }
   ],
   "source": [
    "for book in books:\n",
    "    print book.href + \" author: \" + str(book.author)"
   ]
  },
  {
   "cell_type": "code",
   "execution_count": null,
   "metadata": {
    "collapsed": true,
    "deletable": true,
    "editable": true
   },
   "outputs": [],
   "source": [
    "# Good reads data pulling.\n",
    "def get_shelf(shelf_name):\n",
    "    service_url = 'https://www.goodreads.com/shelf/show/'\n",
    "    url = service_url + '?' + shelf_name\n",
    "    response = urllib.urlopen(url).read()\n",
    "    \n",
    "    return response"
   ]
  },
  {
   "cell_type": "code",
   "execution_count": null,
   "metadata": {
    "collapsed": false,
    "deletable": true,
    "editable": true
   },
   "outputs": [],
   "source": [
    "get_shelf(\"fiction\")"
   ]
  },
  {
   "cell_type": "code",
   "execution_count": null,
   "metadata": {
    "collapsed": true,
    "deletable": true,
    "editable": true
   },
   "outputs": [],
   "source": []
  }
 ],
 "metadata": {
  "kernelspec": {
   "display_name": "test",
   "language": "python",
   "name": "test"
  },
  "language_info": {
   "codemirror_mode": {
    "name": "ipython",
    "version": 2
   },
   "file_extension": ".py",
   "mimetype": "text/x-python",
   "name": "python",
   "nbconvert_exporter": "python",
   "pygments_lexer": "ipython2",
   "version": "2.7.10"
  }
 },
 "nbformat": 4,
 "nbformat_minor": 2
}
